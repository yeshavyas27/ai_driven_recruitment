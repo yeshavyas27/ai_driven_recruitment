{
  "cells": [
    {
      "cell_type": "markdown",
      "metadata": {
        "id": "_dUisyCP63J4"
      },
      "source": [
        "Resume parsing using Mistral AI model"
      ]
    },
    {
      "cell_type": "code",
      "execution_count": null,
      "metadata": {
        "id": "pJ7TkI8Aju3b"
      },
      "outputs": [],
      "source": [
        "! pip install mistralai kagglehub pdfminer.six"
      ]
    },
    {
      "cell_type": "code",
      "execution_count": null,
      "metadata": {
        "id": "pw-8D0AHPiMo"
      },
      "outputs": [],
      "source": [
        "from pdfminer.high_level import extract_text\n",
        "\n",
        "def get_text_from_pdf(file_path):\n",
        "  \"\"\"\n",
        "  TODO: add text extraction based on .pdf or .docx file\n",
        "  ref: https://medium.com/@2020.chetaniya.bajaj/building-a-resume-parser-using-nlp-dd36c2afbce9\n",
        "  \"\"\"\n",
        "  resume_text = extract_text(file_path)\n",
        "  return resume_text"
      ]
    },
    {
      "cell_type": "code",
      "execution_count": null,
      "metadata": {
        "colab": {
          "base_uri": "https://localhost:8080/"
        },
        "id": "siKUcMh7x2CU",
        "outputId": "d31c354f-4d4c-4387-c5d2-018fc0cb7cce"
      },
      "outputs": [
        {
          "name": "stdout",
          "output_type": "stream",
          "text": [
            "Warning: Looks like you're using an outdated `kagglehub` version (installed: 0.3.7), please consider upgrading to the latest version (0.3.8).\n",
            "Path to dataset files: /root/.cache/kagglehub/datasets/snehaanbhawal/resume-dataset/versions/1/data/data/INFORMATION-TECHNOLOGY/10641230.pdf\n"
          ]
        }
      ],
      "source": [
        "import kagglehub\n",
        "import os\n",
        "\n",
        "# Download data from kaggle specifically IT resume pdfs\n",
        "path = kagglehub.dataset_download(\"snehaanbhawal/resume-dataset\")\n",
        "it_path = os.path.join(path, \"data\", \"data\", \"INFORMATION-TECHNOLOGY\", \"10641230.pdf\")\n",
        "\n",
        "print(\"Path to dataset files:\", it_path)"
      ]
    },
    {
      "cell_type": "markdown",
      "metadata": {
        "id": "fnUuRf9815rf"
      },
      "source": [
        "Direct Inference with a prompt using Mistral AI"
      ]
    },
    {
      "cell_type": "code",
      "execution_count": null,
      "metadata": {
        "colab": {
          "base_uri": "https://localhost:8080/"
        },
        "id": "VnAYTagbkh3u",
        "outputId": "68ace492-069f-4237-dca1-dd08c86765b3"
      },
      "outputs": [
        {
          "name": "stdout",
          "output_type": "stream",
          "text": [
            "{\n",
            "    \"name\": \"\",\n",
            "    \"linkedin\": \"\",\n",
            "    \"github\": \"\",\n",
            "    \"education and certifications\": [\n",
            "        {\n",
            "            \"institution\": \"Lyons Township\",\n",
            "            \"degree\": \"Associate of Science: Information Technology\",\n",
            "            \"GPA\": \"\",\n",
            "            \"graduation\": \"2014\",\n",
            "            \"coursework\": [\n",
            "                \"Computer Science\"\n",
            "            ]\n",
            "        },\n",
            "        {\n",
            "            \"institution\": \"\",\n",
            "            \"degree\": \"High School Diploma\",\n",
            "            \"GPA\": \"\",\n",
            "            \"graduation\": \"\",\n",
            "            \"coursework\": [\n",
            "                \"General Education\"\n",
            "            ]\n",
            "        }\n",
            "    ],\n",
            "    \"skills\": [\n",
            "        \"A+ certified\", \"ActionScript\", \"Active directory\", \"Administrative\", \"Adobe Creative Suite 5\", \"Photo\", \"Audio\", \"Brochure\",\n",
            "        \"Budgeting\", \"Business management\", \"Client and server\", \"CMS\", \"Hardware\", \"Computer repair\", \"Consulting\",\n",
            "        \"Content Management\", \"CSS\", \"CSS3\", \"Client\", \"Database\", \"Designing\", \"Documentation\", \"Electronics\", \"XML\",\n",
            "        \"Graphics\", \"Hardware support\", \"HTML\", \"HTML5\", \"PHP\", \"Information security\", \"Java\", \"Java programming\",\n",
            "        \"JavaScript\", \"Linux\", \"Logic\", \"Logo\", \"Mac OS\", \"Managing\", \"Marketing\", \"Medical technology\", \"Microsoft Office\",\n",
            "        \"Office\", \"Windows\", \"Windows 95\", \"Network engineering\", \"Network\", \"Networking\", \"Newsletter\", \"Operating Systems\",\n",
            "        \"Organization development\", \"Programming\", \"Protocols\", \"Prototyping\", \"Search Engine Optimization\", \"Servers\",\n",
            "        \"Storyboarding\", \"TCP/IP\", \"Telephony\", \"Phone 7.0\", \"Troubleshooting\", \"Upgrade\", \"Video\", \"Video editing\",\n",
            "        \"Web Development I\", \"Website\", \"Website management\", \"Windows Server\", \"Wiring\"\n",
            "    ],\n",
            "    \"experience\": [\n",
            "        {\n",
            "            \"role\": \"IT Management\",\n",
            "            \"organization\": \"Company Name\",\n",
            "            \"timeline\": {\n",
            "                \"start\": \"March 2012\",\n",
            "                \"end\": \"November 2012\"\n",
            "            },\n",
            "            \"details\": [\n",
            "                \"Planning, budgeting, and executing all IT projects.\",\n",
            "                \"Office troubleshooting, building/managing the company website and designing/updating the business's electronic newsletter.\"\n",
            "            ],\n",
            "            \"skills_related\": [\n",
            "                \"Planning\", \"Budgeting\", \"Troubleshooting\", \"Website management\", \"Designing\", \"Administrative\"\n",
            "            ]\n",
            "        },\n",
            "        {\n",
            "            \"role\": \"Information Technology Consultant\",\n",
            "            \"organization\": \"Company Name\",\n",
            "            \"timeline\": {\n",
            "                \"start\": \"July 2011\",\n",
            "                \"end\": \"February 2012\"\n",
            "            },\n",
            "            \"details\": [\n",
            "                \"Contracted IT consulting work from client computer repair to network expansion.\"\n",
            "            ],\n",
            "            \"skills_related\": [\n",
            "                \"Consulting\", \"Computer repair\", \"Network expansion\"\n",
            "            ]\n",
            "        },\n",
            "        {\n",
            "            \"role\": \"\",\n",
            "            \"organization\": \"Company Name\",\n",
            "            \"timeline\": {\n",
            "                \"start\": \"May 2011\",\n",
            "                \"end\": \"July 2011\"\n",
            "            },\n",
            "            \"details\": [\n",
            "                \"Company website management, social media administration, as well as assisting in administrative tasks.\"\n",
            "            ],\n",
            "            \"skills_related\": [\n",
            "                \"Website management\", \"Social media administration\", \"Administrative\"\n",
            "            ]\n",
            "        }\n",
            "    ],\n",
            "    \"accomplishments and projects\": [\n",
            "        {\n",
            "            \"name\": \"Rebuilt a client's website\",\n",
            "            \"skills_related\": [\n",
            "                \"Web Development\", \"SEO\"\n",
            "            ],\n",
            "            \"details\": [\n",
            "                \"Increased monthly hits from 3422 to 40884 in a few months.\"\n",
            "            ]\n",
            "        },\n",
            "        {\n",
            "            \"name\": \"Complete information system upgrade\",\n",
            "            \"skills_related\": [\n",
            "                \"Networking\", \"Wiring\", \"Hardware\", \"Software\"\n",
            "            ],\n",
            "            \"details\": [\n",
            "                \"Designed, priced, built, and installed for a client; including networking devices, wiring, client computers, server and software.\"\n",
            "            ]\n",
            "        },\n",
            "        {\n",
            "            \"name\": \"Portable USB phone charger\",\n",
            "            \"skills_related\": [\n",
            "                \"Electronics\", \"Prototyping\", \"Solar\"\n",
            "            ],\n",
            "            \"details\": [\n",
            "                \"Diagrammed, prototyped, and assembled a portable USB phone charger outputting optimal voltage and amperage, with circuits and components small enough to all fit in an Altoids tin.\",\n",
            "                \"Allows next to unlimited portable phone charging due to the device itself being recharged by a small solar panel on the top.\"\n",
            "            ]\n",
            "        },\n",
            "        {\n",
            "            \"name\": \"Automated daily office tasks\",\n",
            "            \"skills_related\": [\n",
            "                \"Batch Scripting\", \"Automation\"\n",
            "            ],\n",
            "            \"details\": [\n",
            "                \"Automated and streamlined daily office tasks for client using Batch Scripting.\"\n",
            "            ]\n",
            "        },\n",
            "        {\n",
            "            \"name\": \"Troubleshot medical technology\",\n",
            "            \"skills_related\": [\n",
            "                \"Medical technology\", \"Troubleshooting\"\n",
            "            ],\n",
            "            \"details\": [\n",
            "                \"Including X-ray machines and medical industry client and server software (Eaglesoft).\"\n",
            "            ]\n",
            "        },\n",
            "        {\n",
            "            \"name\": \"IT project management experience\",\n",
            "            \"skills_related\": [\n",
            "                \"Project management\"\n",
            "            ],\n",
            "            \"details\": []\n",
            "        },\n",
            "        {\n",
            "            \"name\": \"Cloud storage website\",\n",
            "            \"skills_related\": [\n",
            "                \"Cloud computing\", \"Web Development\", \"Security\"\n",
            "            ],\n",
            "            \"details\": [\n",
            "                \"Programmed a cloud storage website allowing a client access to a shared home network drive from any browser, anywhere.\",\n",
            "                \"Includes security login, uploading and downloading.\"\n",
            "            ]\n",
            "        }\n",
            "    ]\n",
            "}\n"
          ]
        }
      ],
      "source": [
        "import os\n",
        "from mistralai import Mistral\n",
        "from google.colab import userdata\n",
        "\n",
        "parsed_resume_dict_format = \"\"\" {\n",
        "                          \"name\": \"\",\n",
        "                          \"linkedin\": \"\",\n",
        "                          \"github\": \"\",\n",
        "                          \"education\": [\n",
        "                              {\n",
        "                                  \"institution\": \"\",\n",
        "                                  \"degree\": \"\",\n",
        "                                  \"GPA\": \"\",\n",
        "                                  \"graduation\": \"\",\n",
        "                                  \"coursework\": []\n",
        "                              }\n",
        "                          ],\n",
        "                          \"skills\": [],\n",
        "                          \"experience\": [\n",
        "                              {\n",
        "                                  \"role\": \"\",\n",
        "                                  \"organization\": \"\",\n",
        "                                  \"timeline\": { \"start\": \"\", \"end\": \"\" },\n",
        "                                  \"details\": [],\n",
        "                                  \"skills_related\": []\n",
        "                              }\n",
        "                          ],\n",
        "                          \"accomplishments and projects\": [\n",
        "                              {\n",
        "                                  \"name\": \"\",\n",
        "                                  \"skills_related\": [],\n",
        "                                  \"details\": []\n",
        "                              }\n",
        "                          ]\n",
        "                      }\"\"\"\n",
        "\n",
        "api_key = userdata.get('MISTRAL_API_KEY')\n",
        "model = \"mistral-large-latest\"\n",
        "\n",
        "client = Mistral(api_key=api_key)\n",
        "\n",
        "chat_response = client.chat.complete(\n",
        "    model = model,\n",
        "    messages = [\n",
        "        {\n",
        "            \"role\": \"user\",\n",
        "            \"content\": f\"Use the data and output it in the below format. Format:{parsed_resume_dict_format} Data:{get_text_from_pdf(it_path)}\"},],\n",
        "    response_format = {\n",
        "          \"type\": \"json_object\", }\n",
        ")\n",
        "\n",
        "print(chat_response.choices[0].message.content)"
      ]
    },
    {
      "cell_type": "markdown",
      "metadata": {
        "id": "HoPXkGAB6hK5"
      },
      "source": [
        "TODO: Alternate approach"
      ]
    },
    {
      "cell_type": "markdown",
      "metadata": {
        "id": "Qj5w-ejl3MsM"
      },
      "source": [
        "Create a dataset"
      ]
    },
    {
      "cell_type": "code",
      "execution_count": null,
      "metadata": {
        "id": "2gZW5B0g3TND"
      },
      "outputs": [],
      "source": [
        "# load the pdf files, inference it to mistral ai to get dictionary, upload the question answer dataset to kaggle"
      ]
    },
    {
      "cell_type": "markdown",
      "metadata": {
        "id": "pLkMG7KL1_It"
      },
      "source": [
        "Finetuning DistilledBERT for resume parsing using the created dataset"
      ]
    },
    {
      "cell_type": "code",
      "execution_count": null,
      "metadata": {
        "id": "gIbNH0QY19dd"
      },
      "outputs": [],
      "source": []
    },
    {
      "cell_type": "code",
      "execution_count": null,
      "metadata": {
        "id": "GP5M3irIJz3g"
      },
      "outputs": [],
      "source": []
    },
    {
      "cell_type": "code",
      "execution_count": null,
      "metadata": {
        "id": "60DdA61ftrXZ"
      },
      "outputs": [],
      "source": []
    }
  ],
  "metadata": {
    "colab": {
      "provenance": []
    },
    "kernelspec": {
      "display_name": "venv",
      "language": "python",
      "name": "python3"
    },
    "language_info": {
      "name": "python",
      "version": "3.12.7"
    }
  },
  "nbformat": 4,
  "nbformat_minor": 0
}
