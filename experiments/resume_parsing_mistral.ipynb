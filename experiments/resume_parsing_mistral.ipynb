{
  "cells": [
    {
      "cell_type": "markdown",
      "metadata": {
        "id": "_dUisyCP63J4"
      },
      "source": [
        "Resume parsing using Mistral AI model"
      ]
    },
    {
      "cell_type": "code",
      "execution_count": null,
      "metadata": {
        "id": "pJ7TkI8Aju3b"
      },
      "outputs": [],
      "source": [
        "! pip install mistralai kagglehub pdfminer.six"
      ]
    },
    {
      "cell_type": "code",
      "execution_count": 2,
      "metadata": {
        "id": "pw-8D0AHPiMo"
      },
      "outputs": [],
      "source": [
        "from pdfminer.high_level import extract_text\n",
        "\n",
        "def get_text_from_pdf(file_path):\n",
        "  \"\"\"\n",
        "  TODO: add text extraction based on .pdf or .docx file\n",
        "  ref: https://medium.com/@2020.chetaniya.bajaj/building-a-resume-parser-using-nlp-dd36c2afbce9\n",
        "  \"\"\"\n",
        "  resume_text = extract_text(file_path)\n",
        "  return resume_text"
      ]
    },
    {
      "cell_type": "code",
      "execution_count": 3,
      "metadata": {
        "colab": {
          "base_uri": "https://localhost:8080/"
        },
        "id": "siKUcMh7x2CU",
        "outputId": "d31c354f-4d4c-4387-c5d2-018fc0cb7cce"
      },
      "outputs": [],
      "source": [
        "# import kagglehub\n",
        "# import os\n",
        "\n",
        "# # Download data from kaggle specifically IT resume pdfs\n",
        "# path = kagglehub.dataset_download(\"snehaanbhawal/resume-dataset\")\n",
        "# it_path = os.path.join(path, \"data\", \"data\", \"INFORMATION-TECHNOLOGY\", \"10641230.pdf\")\n",
        "\n",
        "# print(\"Path to dataset files:\", it_path)\n",
        "it_path = \"D:/yesha_vyas_resume.pdf\""
      ]
    },
    {
      "cell_type": "markdown",
      "metadata": {
        "id": "fnUuRf9815rf"
      },
      "source": [
        "Direct Inference with a prompt using Mistral AI"
      ]
    },
    {
      "cell_type": "code",
      "execution_count": 4,
      "metadata": {
        "colab": {
          "base_uri": "https://localhost:8080/"
        },
        "id": "VnAYTagbkh3u",
        "outputId": "68ace492-069f-4237-dca1-dd08c86765b3"
      },
      "outputs": [
        {
          "name": "stdout",
          "output_type": "stream",
          "text": [
            "{\n",
            "  \"name\": \"Yesha Vyas\",\n",
            "  \"linkedin\": \"linkedin.com/yeshavyas\",\n",
            "  \"github\": \"github.com/yeshavyas27\",\n",
            "  \"years_of_experience\": \"1\",\n",
            "  \"education\": [\n",
            "    {\n",
            "      \"institution\": \"Gujarat Technological University\",\n",
            "      \"degree\": \"Bachelor’s in Computer Science\",\n",
            "      \"GPA\": \"9.11 / 10\",\n",
            "      \"graduation\": \"Expected May 2025\",\n",
            "      \"coursework\": [\n",
            "        \"Probability & Statistics\",\n",
            "        \"Python for Data Science\",\n",
            "        \"Machine Learning\",\n",
            "        \"Artificial Intelligence\",\n",
            "        \"Data Structures and Algorithms (C)\",\n",
            "        \"Data Mining\",\n",
            "        \"Discrete Mathematics\",\n",
            "        \"Operating Systems\",\n",
            "        \"Computer Networks\"\n",
            "      ]\n",
            "    }\n",
            "  ],\n",
            "  \"skills\": [\n",
            "    \"TensorFlow\",\n",
            "    \"PyTorch\",\n",
            "    \"Python\",\n",
            "    \"Pandas\",\n",
            "    \"Matplotlib\",\n",
            "    \"NumPy\",\n",
            "    \"Librosa\",\n",
            "    \"Flask-Python\",\n",
            "    \"MongoDB\",\n",
            "    \"MySQL\",\n",
            "    \"Kong\",\n",
            "    \"Redis\",\n",
            "    \"AWS\",\n",
            "    \"Docker\",\n",
            "    \"SocketIO\",\n",
            "    \"RESTful APIs\",\n",
            "    \"Jira\",\n",
            "    \"Git\",\n",
            "    \"Ubuntu-linux\",\n",
            "    \"Flask-Restful\",\n",
            "    \"Scrapy\",\n",
            "    \"ReactJS\",\n",
            "    \"TailwindCSS\",\n",
            "    \"Huggingface libraries\",\n",
            "    \"Gradio\",\n",
            "    \"Multimodal LLMs\",\n",
            "    \"Linear Regression\",\n",
            "    \"Logistic Regression\",\n",
            "    \"Classification\",\n",
            "    \"Gradient Descent\",\n",
            "    \"Supervised Learning\",\n",
            "    \"Unsupervised Learning\",\n",
            "    \"Decision Trees\",\n",
            "    \"Deep Learning\",\n",
            "    \"Neural Networks\",\n",
            "    \"TensorFlow\",\n",
            "    \"Recommender systems\"\n",
            "  ],\n",
            "  \"experience\": [\n",
            "    {\n",
            "      \"role\": \"Student Researcher\",\n",
            "      \"organization\": \"Sardar Vallabhbhai Patel Institute of Technology\",\n",
            "      \"timeline\": { \"start\": \"Oct 2023\", \"end\": \"Jul 2024\" },\n",
            "      \"details\": [\n",
            "        \"The research was focused on Speech Emotion Recognition.\",\n",
            "        \"Conducted experiments inspired by current research in Speech Emotion Recognition (SER). Proposed two key approaches: (1) Leveraged spectrograms of audio data as input to a pre-trained CNN model, the learned deep features were then used for emotion classification, followed by fully connected layers for final classification. (2) Extracted acoustic features such as MFCC, ZCR, and RMS from audio and used them as input to a 1D CNN + LSTM model, achieving state-of-the-art performance in the domain.\"\n",
            "      ],\n",
            "      \"skills_related\": [\n",
            "        \"TensorFlow\",\n",
            "        \"PyTorch\",\n",
            "        \"Python\",\n",
            "        \"Pandas\",\n",
            "        \"Matplotlib\",\n",
            "        \"NumPy\",\n",
            "        \"Librosa\"\n",
            "      ]\n",
            "    },\n",
            "    {\n",
            "      \"role\": \"SDE Intern\",\n",
            "      \"organization\": \"CoRider - social ride-sharing app\",\n",
            "      \"timeline\": { \"start\": \"May 2023\", \"end\": \"Sep 2023\" },\n",
            "      \"details\": [\n",
            "        \"Developed end-to-end APIs on the server side. I also built full-fledged features including live chatting through sockets using SocketIO, grpc communication between microservices, and ios notifications.\"\n",
            "      ],\n",
            "      \"skills_related\": [\n",
            "        \"Flask-Python\",\n",
            "        \"MongoDB\",\n",
            "        \"MySQL\",\n",
            "        \"Kong\",\n",
            "        \"Redis\",\n",
            "        \"AWS\",\n",
            "        \"Docker\",\n",
            "        \"SocketIO\",\n",
            "        \"RESTful APIs\",\n",
            "        \"Jira\",\n",
            "        \"Git\",\n",
            "        \"Ubuntu-linux\"\n",
            "      ]\n",
            "    }\n",
            "  ],\n",
            "  \"accomplishments and projects\": [\n",
            "    {\n",
            "      \"name\": \"Speech Emotion Recognition\",\n",
            "      \"skills_related\": [\n",
            "        \"Python\",\n",
            "        \"TensorFlow\",\n",
            "        \"Librosa\",\n",
            "        \"Scikit Learn\",\n",
            "        \"Pandas\"\n",
            "      ],\n",
            "      \"details\": [\n",
            "        \"Trained and Fine-tuned 1D CNNs, 1D CNN + LSTM, and 1D CNN + BiLSTM models to predict emotion classes from raw audio data. Ensemble algorithms were also employed to improve performance.\"\n",
            "      ]\n",
            "    },\n",
            "    {\n",
            "      \"name\": \"Exercise Correctly\",\n",
            "      \"skills_related\": [\n",
            "        \"Flask-Restful\",\n",
            "        \"Scrapy\",\n",
            "        \"ReactJS\",\n",
            "        \"TailwindCSS\",\n",
            "        \"TensorFlow\"\n",
            "      ],\n",
            "      \"details\": [\n",
            "        \"A web app that gives live feedback on a user’s exercise pose by comparing it with the ideal pose. To fetch key points on the body, a pre-trained model called PoseNet was used, and the returned vector was then compared with the ideal pose vector using cosine similarity to finally calculate exercise accuracy. Scrapy was used to fetch yoga poses from a website along with instructions for the same.\"\n",
            "      ]\n",
            "    },\n",
            "    {\n",
            "      \"name\": \"Visual Question Answering (VQA)\",\n",
            "      \"skills_related\": [\n",
            "        \"Huggingface libraries\",\n",
            "        \"PyTorch\",\n",
            "        \"Gradio\",\n",
            "        \"Multimodal LLMs\",\n",
            "        \"Python\"\n",
            "      ],\n",
            "      \"details\": [\n",
            "        \"Finetuned a multimodal LLM called moondream on Visual Question answering dataset. The fine-tuned model was then saved on hugging face, which was later used for inference in the Gradio application.\"\n",
            "      ]\n",
            "    }\n",
            "  ]\n",
            "}\n"
          ]
        }
      ],
      "source": [
        "import os\n",
        "from mistralai import Mistral\n",
        "from dotenv import dotenv_values\n",
        "\n",
        "my_secrets = dotenv_values(\".env\")\n",
        "\n",
        "\n",
        "\n",
        "parsed_resume_dict_format = \"\"\" {\n",
        "                          \"name\": \"\",\n",
        "                          \"linkedin\": \"\",\n",
        "                          \"github\": \"\",\n",
        "                          \"years_of_experience\":\"\",\n",
        "                          \"education\": [\n",
        "                              {\n",
        "                                  \"institution\": \"\",\n",
        "                                  \"degree\": \"\",\n",
        "                                  \"GPA\": \"\",\n",
        "                                  \"graduation\": \"\",\n",
        "                                  \"coursework\": []\n",
        "                              }\n",
        "                          ],\n",
        "                          \"skills\": [],\n",
        "                          \"experience\": [\n",
        "                              {\n",
        "                                  \"role\": \"\",\n",
        "                                  \"organization\": \"\",\n",
        "                                  \"timeline\": { \"start\": \"\", \"end\": \"\" },\n",
        "                                  \"details\": [],\n",
        "                                  \"skills_related\": []\n",
        "                              }\n",
        "                          ],\n",
        "                          \"accomplishments and projects\": [\n",
        "                              {\n",
        "                                  \"name\": \"\",\n",
        "                                  \"skills_related\": [],\n",
        "                                  \"details\": []\n",
        "                              }\n",
        "                          ]\n",
        "                      }\"\"\"\n",
        "\n",
        "# api_key = userdata.get('MISTRAL_API_KEY')\n",
        "api_key = my_secrets[\"MISTRAL_API_KEY\"]\n",
        "model = \"mistral-small-latest\"\n",
        "\n",
        "client = Mistral(api_key=api_key)\n",
        "\n",
        "chat_response = client.chat.complete(\n",
        "    model = model,\n",
        "    messages = [\n",
        "        {\n",
        "            \"role\": \"user\",\n",
        "            \"content\": f\"Use the data and output it in the below format. Format:{parsed_resume_dict_format} Data:{get_text_from_pdf(it_path)}\"},],\n",
        "    response_format = {\n",
        "          \"type\": \"json_object\", }\n",
        ")\n",
        "\n",
        "print(chat_response.choices[0].message.content)"
      ]
    },
    {
      "cell_type": "markdown",
      "metadata": {
        "id": "HoPXkGAB6hK5"
      },
      "source": [
        "TODO: Alternate approach"
      ]
    },
    {
      "cell_type": "markdown",
      "metadata": {
        "id": "Qj5w-ejl3MsM"
      },
      "source": [
        "Create a dataset"
      ]
    },
    {
      "cell_type": "code",
      "execution_count": null,
      "metadata": {
        "id": "2gZW5B0g3TND"
      },
      "outputs": [],
      "source": [
        "# load the pdf files, inference it to mistral ai to get dictionary, upload the question answer dataset to kaggle"
      ]
    },
    {
      "cell_type": "markdown",
      "metadata": {
        "id": "pLkMG7KL1_It"
      },
      "source": [
        "Finetuning DistilledBERT for resume parsing using the created dataset"
      ]
    },
    {
      "cell_type": "code",
      "execution_count": null,
      "metadata": {
        "id": "gIbNH0QY19dd"
      },
      "outputs": [],
      "source": []
    },
    {
      "cell_type": "code",
      "execution_count": null,
      "metadata": {
        "id": "GP5M3irIJz3g"
      },
      "outputs": [],
      "source": []
    },
    {
      "cell_type": "code",
      "execution_count": null,
      "metadata": {
        "id": "60DdA61ftrXZ"
      },
      "outputs": [],
      "source": []
    }
  ],
  "metadata": {
    "colab": {
      "provenance": []
    },
    "kernelspec": {
      "display_name": "venv",
      "language": "python",
      "name": "python3"
    },
    "language_info": {
      "codemirror_mode": {
        "name": "ipython",
        "version": 3
      },
      "file_extension": ".py",
      "mimetype": "text/x-python",
      "name": "python",
      "nbconvert_exporter": "python",
      "pygments_lexer": "ipython3",
      "version": "3.12.7"
    }
  },
  "nbformat": 4,
  "nbformat_minor": 0
}
