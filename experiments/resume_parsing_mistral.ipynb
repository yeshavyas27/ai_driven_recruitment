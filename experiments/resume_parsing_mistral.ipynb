{
  "cells": [
    {
      "cell_type": "markdown",
      "metadata": {
        "id": "_dUisyCP63J4"
      },
      "source": [
        "Resume parsing using Mistral AI model"
      ]
    },
    {
      "cell_type": "code",
      "execution_count": null,
      "metadata": {
        "id": "pJ7TkI8Aju3b"
      },
      "outputs": [],
      "source": [
        "! pip install mistralai kagglehub pdfminer.six"
      ]
    },
    {
      "cell_type": "code",
      "execution_count": 9,
      "metadata": {
        "id": "pw-8D0AHPiMo"
      },
      "outputs": [],
      "source": [
        "from pdfminer.high_level import extract_text\n",
        "\n",
        "def get_text_from_pdf(file_path):\n",
        "  \"\"\"\n",
        "  TODO: add text extraction based on .pdf or .docx file\n",
        "  ref: https://medium.com/@2020.chetaniya.bajaj/building-a-resume-parser-using-nlp-dd36c2afbce9\n",
        "  \"\"\"\n",
        "  resume_text = extract_text(file_path)\n",
        "  return resume_text"
      ]
    },
    {
      "cell_type": "code",
      "execution_count": 10,
      "metadata": {
        "colab": {
          "base_uri": "https://localhost:8080/"
        },
        "id": "siKUcMh7x2CU",
        "outputId": "d31c354f-4d4c-4387-c5d2-018fc0cb7cce"
      },
      "outputs": [],
      "source": [
        "# import kagglehub\n",
        "# import os\n",
        "\n",
        "# # Download data from kaggle specifically IT resume pdfs\n",
        "# path = kagglehub.dataset_download(\"snehaanbhawal/resume-dataset\")\n",
        "# it_path = os.path.join(path, \"data\", \"data\", \"INFORMATION-TECHNOLOGY\", \"10641230.pdf\")\n",
        "\n",
        "# print(\"Path to dataset files:\", it_path)\n",
        "it_path = \"D:/Desktop/yesha_vyas_resume.pdf\""
      ]
    },
    {
      "cell_type": "markdown",
      "metadata": {
        "id": "fnUuRf9815rf"
      },
      "source": [
        "Direct Inference with a prompt using Mistral AI"
      ]
    },
    {
      "cell_type": "code",
      "execution_count": 13,
      "metadata": {
        "colab": {
          "base_uri": "https://localhost:8080/"
        },
        "id": "VnAYTagbkh3u",
        "outputId": "68ace492-069f-4237-dca1-dd08c86765b3"
      },
      "outputs": [
        {
          "name": "stderr",
          "output_type": "stream",
          "text": [
            "CropBox missing from /Page, defaulting to MediaBox\n",
            "CropBox missing from /Page, defaulting to MediaBox\n"
          ]
        },
        {
          "name": "stdout",
          "output_type": "stream",
          "text": [
            "{\n",
            "  \"name\": \"Yesha Vyas\",\n",
            "  \"linkedin\": \"linkedin.com/yeshavyas\",\n",
            "  \"github\": \"github.com/yeshavyas27\",\n",
            "  \"years_of_experience\": \"\",\n",
            "  \"education\": [\n",
            "    {\n",
            "      \"institution\": \"Gujarat Technological University\",\n",
            "      \"degree\": \"Bachelor’s in Computer Science\",\n",
            "      \"GPA\": \"9.11 / 10\",\n",
            "      \"graduation\": \"Expected May 2025\",\n",
            "      \"coursework\": [\n",
            "        \"Probability & Statistics\",\n",
            "        \"Python for Data Science\",\n",
            "        \"Machine Learning\",\n",
            "        \"Artiﬁcial Intelligence\",\n",
            "        \"Data Structures and Algorithms (C)\",\n",
            "        \"Data Mining\",\n",
            "        \"Discrete Mathematics\",\n",
            "        \"Operating Systems\",\n",
            "        \"Computer Networks\"\n",
            "      ]\n",
            "    }\n",
            "  ],\n",
            "  \"skills\": [\n",
            "    \"Programming Languages: Python, Java, JavaScript, C++, Bash\",\n",
            "    \"Development: Flask-Restful, Gradio, Streamlit, BeautifulSoup, Scrapy, Selenium, Docker, AWS, Git, Linux\",\n",
            "    \"Machine Learning Deep Learning: TensorFlow, PyTorch, LangChain, Hugging Face libraries, Scikit-learn\",\n",
            "    \"Scientiﬁc Computing and Data Analysis: Pandas, NumPy, Matplotlib\",\n",
            "    \"Web Scraping: BeautifulSoup, Scrapy, Selenium, Playwright\",\n",
            "    \"DevOps and Version Control: Docker, AWS, Git\",\n",
            "    \"Operating Systems: Linux (Ubuntu), Windows\"\n",
            "  ],\n",
            "  \"experience\": [\n",
            "    {\n",
            "      \"role\": \"AI Engineer Intern\",\n",
            "      \"organization\": \"Nextgen Technologies\",\n",
            "      \"timeline\": { \"start\": \"Feb 2025\", \"end\": \"Present\" },\n",
            "      \"details\": [\"Currently working on developing an AI-driven recruitment management system.\",\n",
            "                  \"Built resume parsing engine to extract structured dictionary from PDF ﬁle using Mistral AI Large model.\",\n",
            "                  \"Created a skill-matching engine to match candidates to jobs using an LLM by matching key skills and context matching of candidate experience and job description.\"],\n",
            "      \"skills_related\": [\"PyTorch\", \"HuggingFace libraries\", \"Langchain\", \"Flask-Restful\", \"Python\"]\n",
            "    },\n",
            "    {\n",
            "      \"role\": \"Undergraduate Student Researcher\",\n",
            "      \"organization\": \"Sardar Vallabhbhai Patel Institute of Technology\",\n",
            "      \"timeline\": { \"start\": \"Oct 2023\", \"end\": \"Jul 2024\" },\n",
            "      \"details\": [\"Conducted research in Speech Emotion Recognition (SER), inspired by its application in human-computer interaction.\",\n",
            "                  \"Used spectrograms of audio data as input to pre-trained CNN models, leveraging deep features for emotion classification.\",\n",
            "                  \"Extracted acoustic features such as MFCC, ZCR, and RMS using librosa. The proposed 1D CNN model achieved an improvement of 5% over previous research.\",\n",
            "                  \"Presented the research at the International Artiﬁcial Intelligence and Speech Technology Conference; publication forthcoming in Springer CCIS.\"],\n",
            "      \"skills_related\": [\"Tensorﬂow\", \"Pytorch\", \"Python\", \"pandas\", \"matplotlib\", \"numpy\", \"Librosa\"]\n",
            "    },\n",
            "    {\n",
            "      \"role\": \"SDE Intern\",\n",
            "      \"organization\": \"CoRider - social ride-sharing app\",\n",
            "      \"timeline\": { \"start\": \"May 2023\", \"end\": \"Sep 2023\" },\n",
            "      \"details\": [\"Developed end-to-end APIs on the server side.\",\n",
            "                  \"Built features like real-time chat using Socket.IO, enabling communication by creating and managing chat rooms for trip members.\",\n",
            "                  \"Integrated gRPC communication between microservices for eﬃcient and scalable interactions.\",\n",
            "                  \"Managed ﬁle storage and retrieval by integrating AWS S3 into backend infrastructure.\",\n",
            "                  \"Ensured robust API design by addressing edge cases through thorough testing.\"],\n",
            "      \"skills_related\": [\"Flask-Python\", \"MongoDB\", \"MySQL\", \"Kong\", \"Redis\", \"AWS\", \"Docker\", \"SocketIO\", \"RESTful APIs\", \"Jira\", \"Git\", \"Ubuntu-linux\"]\n",
            "    }\n",
            "  ],\n",
            "  \"accomplishments and projects\": [\n",
            "    {\n",
            "      \"name\": \"Speech emotion recognition using deep learning\",\n",
            "      \"skills_related\": [\"Python\", \"Tensorﬂow\", \"Librosa\", \"Scikit Learn\", \"Pandas\"],\n",
            "      \"details\": [\n",
            "        \"Designed and ﬁne-tuned deep learning models (1D CNN, CNN+LSTM, CNN+BiLSTM) for emotion classiﬁcation using raw audio data.\",\n",
            "        \"Implemented ensemble techniques to enhance model performance.\"\n",
            "      ]\n",
            "    },\n",
            "    {\n",
            "      \"name\": \"Exercise pose feedback web application\",\n",
            "      \"skills_related\": [\"Flask-Restful\", \"Scrapy\", \"ReactJS\", \"TailwindCSS\", \"TensorﬂowJS\"],\n",
            "      \"details\": [\n",
            "        \"Developed a web application that provides real-time feedback on exercise poses by comparing user poses to ideal poses.\"\n",
            "      ]\n",
            "    },\n",
            "    {\n",
            "      \"name\": \"Visual question answering using multimodal llm\",\n",
            "      \"skills_related\": [\"Huggingface libraries\", \"PyTorch\", \"Gradio\", \"Multimodal LLM - moondream, bitsandbytes, PEFT, Python\"],\n",
            "      \"details\": [\n",
            "        \"Fine-tuned the Moondream multimodal LLM on a Visual Question Answering dataset.\",\n",
            "        \"Deployed the model via Hugging Face and integrated it into a Gradio application for real-time inference.\",\n",
            "        \"Reduced memory usage during fine-tuning by implementing QLoRA.\"\n",
            "      ]\n",
            "    }\n",
            "  ]\n",
            "}\n"
          ]
        }
      ],
      "source": [
        "import os\n",
        "from mistralai import Mistral\n",
        "from dotenv import load_dotenv\n",
        "\n",
        "load_dotenv()\n",
        "\n",
        "\n",
        "\n",
        "parsed_resume_dict_format = \"\"\" {\n",
        "                          \"name\": \"\",\n",
        "                          \"linkedin\": \"\",\n",
        "                          \"github\": \"\",\n",
        "                          \"years_of_experience\":\"\",\n",
        "                          \"education\": [\n",
        "                              {\n",
        "                                  \"institution\": \"\",\n",
        "                                  \"degree\": \"\",\n",
        "                                  \"GPA\": \"\",\n",
        "                                  \"graduation\": \"\",\n",
        "                                  \"coursework\": []\n",
        "                              }\n",
        "                          ],\n",
        "                          \"skills\": [],\n",
        "                          \"experience\": [\n",
        "                              {\n",
        "                                  \"role\": \"\",\n",
        "                                  \"organization\": \"\",\n",
        "                                  \"timeline\": { \"start\": \"\", \"end\": \"\" },\n",
        "                                  \"details\": [],\n",
        "                                  \"skills_related\": []\n",
        "                              }\n",
        "                          ],\n",
        "                          \"accomplishments and projects\": [\n",
        "                              {\n",
        "                                  \"name\": \"\",\n",
        "                                  \"skills_related\": [],\n",
        "                                  \"details\": []\n",
        "                              }\n",
        "                          ]\n",
        "                      }\"\"\"\n",
        "\n",
        "# api_key = userdata.get('MISTRAL_API_KEY')\n",
        "api_key = os.getenv(\"MISTRAL_API_KEY\")\n",
        "model = \"open-mistral-7b\"\n",
        "\n",
        "client = Mistral(api_key=api_key)\n",
        "\n",
        "chat_response = client.chat.complete(\n",
        "    model = model,\n",
        "    messages = [\n",
        "        {\n",
        "            \"role\": \"user\",\n",
        "            \"content\": f\"Use the data and output it in the below format. Format:{parsed_resume_dict_format} Data:{get_text_from_pdf(it_path)}\"},],\n",
        "    response_format = {\n",
        "          \"type\": \"json_object\", }\n",
        ")\n",
        "\n",
        "print(chat_response.choices[0].message.content)"
      ]
    },
    {
      "cell_type": "markdown",
      "metadata": {
        "id": "HoPXkGAB6hK5"
      },
      "source": [
        "TODO: Alternate approach"
      ]
    },
    {
      "cell_type": "markdown",
      "metadata": {
        "id": "Qj5w-ejl3MsM"
      },
      "source": [
        "Create a dataset"
      ]
    },
    {
      "cell_type": "code",
      "execution_count": null,
      "metadata": {
        "id": "2gZW5B0g3TND"
      },
      "outputs": [],
      "source": [
        "# load the pdf files, inference it to mistral ai to get dictionary, upload the question answer dataset to kaggle"
      ]
    },
    {
      "cell_type": "markdown",
      "metadata": {
        "id": "pLkMG7KL1_It"
      },
      "source": [
        "Finetuning DistilledBERT for resume parsing using the created dataset"
      ]
    },
    {
      "cell_type": "code",
      "execution_count": null,
      "metadata": {
        "id": "gIbNH0QY19dd"
      },
      "outputs": [],
      "source": []
    },
    {
      "cell_type": "code",
      "execution_count": null,
      "metadata": {
        "id": "GP5M3irIJz3g"
      },
      "outputs": [],
      "source": []
    },
    {
      "cell_type": "code",
      "execution_count": null,
      "metadata": {
        "id": "60DdA61ftrXZ"
      },
      "outputs": [],
      "source": []
    }
  ],
  "metadata": {
    "colab": {
      "provenance": []
    },
    "kernelspec": {
      "display_name": "venv",
      "language": "python",
      "name": "python3"
    },
    "language_info": {
      "codemirror_mode": {
        "name": "ipython",
        "version": 3
      },
      "file_extension": ".py",
      "mimetype": "text/x-python",
      "name": "python",
      "nbconvert_exporter": "python",
      "pygments_lexer": "ipython3",
      "version": "3.12.7"
    }
  },
  "nbformat": 4,
  "nbformat_minor": 0
}
